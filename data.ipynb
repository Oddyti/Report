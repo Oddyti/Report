{
 "cells": [
  {
   "cell_type": "code",
   "execution_count": 3,
   "metadata": {},
   "outputs": [],
   "source": [
    "import numpy as np\n",
    "import pandas as pd\n",
    "\n",
    "data = np.loadtxt('data.txt')\n",
    "data = data.reshape((4,10))\n",
    "data1 = data[:2,:]\n",
    "data1 = data1.T\n",
    "data1 = data1.reshape(10,2)\n",
    "np.savetxt('data1.txt', data1, fmt = '%.3f', delimiter= ',')\n",
    "data2 = data[[2,3],:]\n",
    "data2 = data2.T\n",
    "data2 = data2.reshape(10,2)\n",
    "np.savetxt('data2.txt', data2, fmt = '%.3f', delimiter= ',')\n",
    "\n",
    "data1 = pd.DataFrame(data1)\n",
    "data2 = pd.DataFrame(data2)\n",
    "\n",
    "writer = pd.ExcelWriter('data.xlsx')\t\t# 写入Excel文件\n",
    "data1.to_excel(writer, 'page_1', float_format='%.3f')\t\t# ‘page_1’是写入excel的sheet名\n",
    "data2.to_excel(writer, 'page_2', float_format='%.3f')\n",
    "writer.save()\n",
    "\n",
    "writer.close()\n",
    "\n"
   ]
  },
  {
   "cell_type": "code",
   "execution_count": null,
   "metadata": {},
   "outputs": [],
   "source": []
  }
 ],
 "metadata": {
  "interpreter": {
   "hash": "5b496de2c77a15947f4147fb4cdd7a1d72b3fff485d6002cc9952d990454c3b7"
  },
  "kernelspec": {
   "display_name": "Python 3.8.13 ('tensorch')",
   "language": "python",
   "name": "python3"
  },
  "language_info": {
   "codemirror_mode": {
    "name": "ipython",
    "version": 3
   },
   "file_extension": ".py",
   "mimetype": "text/x-python",
   "name": "python",
   "nbconvert_exporter": "python",
   "pygments_lexer": "ipython3",
   "version": "3.8.13"
  },
  "orig_nbformat": 4
 },
 "nbformat": 4,
 "nbformat_minor": 2
}
