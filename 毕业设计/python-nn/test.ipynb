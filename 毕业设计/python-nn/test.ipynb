{
 "cells": [
  {
   "cell_type": "code",
   "execution_count": 7,
   "metadata": {},
   "outputs": [],
   "source": [
    "# when use scipy.i+1+1+1+1o\n",
    "import scipy.io as scio\n",
    "import numpy as np\n",
    "\n",
    "tx_bit_seq = scio.loadmat('data/tx_bit_seq.mat')\n",
    "tx_bit_seq.keys()\n",
    "\n",
    "tx_bit_mix = np.array(tx_bit_seq['tx_bit_mix'])\n",
    "tx_bit_mt = np.array(tx_bit_seq['tx_bit_mt'])\n",
    "tx_bit_prbs = np.array(tx_bit_seq['tx_bit_prbs'])\n",
    "\n",
    "\n"
   ]
  },
  {
   "cell_type": "code",
   "execution_count": 8,
   "metadata": {},
   "outputs": [],
   "source": [
    "import numpy as np\n",
    "\n",
    "data = tx_bit_mt\n",
    "\n",
    "if len(data)%2 != 0:\n",
    "    data = np.append(data, 0)\n",
    "\n",
    "data_I = []\n",
    "data_Q = []\n",
    "\n",
    "for i in range(round(data.size/4)):\n",
    "    i = 4*i\n",
    "    if data[i] == 0 and data[i+1] == 0:\n",
    "        data_I.append(-3)\n",
    "    if data[i] == 0 and data[i+1] == 1:\n",
    "        data_I.append(-1)\n",
    "    if data[i] == 1 and data[i+1] == 0:\n",
    "        data_I.append(1)\n",
    "    if data[i] == 1 and data[i+1] == 1:\n",
    "        data_I.append(3)\n",
    "        \n",
    "    if data[i+2] == 0 and data[i+3] == 0:\n",
    "        data_Q.append(3)\n",
    "    if data[i+2] == 0 and data[i+3] == 1:\n",
    "        data_Q.append(1)\n",
    "    if data[i+2] == 1 and data[i+3] == 0:\n",
    "        data_Q.append(-1)\n",
    "    if data[i+2] == 1 and data[i+3] == 1:\n",
    "        data_Q.append(-3)\n",
    "\n",
    "data_I = np.array(data_I)\n",
    "data_Q = np.array(data_Q)\n"
   ]
  }
 ],
 "metadata": {
  "kernelspec": {
   "display_name": "tensorch",
   "language": "python",
   "name": "python3"
  },
  "language_info": {
   "codemirror_mode": {
    "name": "ipython",
    "version": 3
   },
   "file_extension": ".py",
   "mimetype": "text/x-python",
   "name": "python",
   "nbconvert_exporter": "python",
   "pygments_lexer": "ipython3",
   "version": "3.8.13"
  },
  "orig_nbformat": 4
 },
 "nbformat": 4,
 "nbformat_minor": 2
}
