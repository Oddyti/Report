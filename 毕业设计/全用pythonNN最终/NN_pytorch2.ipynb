{
 "cells": [
  {
   "attachments": {},
   "cell_type": "markdown",
   "metadata": {},
   "source": [
    "对不同阶数PRBS测试"
   ]
  },
  {
   "cell_type": "code",
   "execution_count": 1,
   "metadata": {},
   "outputs": [
    {
     "name": "stderr",
     "output_type": "stream",
     "text": [
      "d:\\Programs\\Anaconda3\\envs\\tensorch\\lib\\site-packages\\tqdm\\auto.py:22: TqdmWarning: IProgress not found. Please update jupyter and ipywidgets. See https://ipywidgets.readthedocs.io/en/stable/user_install.html\n",
      "  from .autonotebook import tqdm as notebook_tqdm\n"
     ]
    }
   ],
   "source": [
    "import torch\n",
    "import torch.nn as nn\n",
    "import scipy.io as scio\n",
    "import numpy as np\n",
    "import matplotlib.pyplot as plt\n",
    "from sklearn.model_selection import train_test_split\n",
    "\n",
    "\n",
    "def modify_data(path, key, mem_n):\n",
    "    data = scio.loadmat(path)\n",
    "    data_x = data['sig_x' + key]\n",
    "    data_y = data['sig_y' + key]\n",
    "    L = len(data_x)\n",
    "    data_x_temp = np.pad(data_x, ((0, mem_n), (0, 0)), 'wrap').T\n",
    "    data_x_temp_real = np.real(data_x_temp)\n",
    "    data_x_temp_imag = np.imag(data_x_temp)\n",
    "    data_x_new_real = np.zeros([L, mem_n])\n",
    "    data_x_new_imag = np.zeros([L, mem_n])\n",
    "    for i in range(L):\n",
    "        data_x_new_real[i, :] = data_x_temp_real[:, i:mem_n+i]\n",
    "        data_x_new_imag[i, :] = data_x_temp_imag[:, i:mem_n+i]\n",
    "\n",
    "    data_y_real = data_y[:,0:2]\n",
    "    data_y_imag = data_y[:,2:4]\n",
    "    return data_x_new_real, data_x_new_imag, data_y_real, data_y_imag\n",
    "\n",
    "\n",
    "def train(epochs, model, x_train, y_train, criterion, optimizer, device):\n",
    "    train_loss = []\n",
    "    for i in range(epochs):\n",
    "        x_train = x_train.to(device)\n",
    "        y_train = y_train.to(device)\n",
    "        y_pred = model.forward(x_train)\n",
    "        loss = criterion(y_pred, y_train)\n",
    "        train_loss.append(loss.item())\n",
    "        # if i % 10 == 0:\n",
    "        #     print(f'Epoch: {i} Loss: {loss}')\n",
    "\n",
    "        optimizer.zero_grad()\n",
    "        loss.backward()\n",
    "        optimizer.step()\n",
    "\n",
    "    # 绘图代码\n",
    "    plt.plot(np.arange(len(train_loss)), train_loss, label=\"train loss\")\n",
    "    plt.legend()  # 显示图例\n",
    "    plt.xlabel('epoches')\n",
    "    plt.title('loss')\n",
    "    # plt.show()\n",
    "\n",
    "    return model\n",
    "\n",
    "\n",
    "class Model(nn.Module):\n",
    "    def __init__(self):\n",
    "        super(Model, self).__init__()\n",
    "        self.linear1 = nn.Linear(40, 46)\n",
    "        self.act1 = nn.ReLU()\n",
    "        self.linear2 = nn.Linear(46, 30)\n",
    "        self.act2 = nn.ReLU()\n",
    "        self.linear3 = nn.Linear(30, 24)\n",
    "        self.act3 = nn.ReLU()\n",
    "        self.linear4 = nn.Linear(24, 16)\n",
    "        self.act4 = nn.ReLU()\n",
    "        self.output = nn.Linear(16, 2)\n",
    "        self.act5 = nn.Softmax()\n",
    "\n",
    "    # 前向传播\n",
    "    def forward(self, x):\n",
    "        x = self.linear1(x)\n",
    "        x = self.act1(x)\n",
    "        x = self.linear2(x)\n",
    "        x = self.act2(x)\n",
    "        x = self.linear3(x)\n",
    "        x = self.act3(x)\n",
    "        x = self.linear4(x)\n",
    "        x = self.act4(x)\n",
    "        x = self.output(x)\n",
    "        x = self.act5(x)\n",
    "        return x"
   ]
  },
  {
   "cell_type": "code",
   "execution_count": 2,
   "metadata": {},
   "outputs": [
    {
     "name": "stdout",
     "output_type": "stream",
     "text": [
      "cuda:0\n"
     ]
    },
    {
     "ename": "FileNotFoundError",
     "evalue": "[Errno 2] No such file or directory: '../data/data_mt_bit.mat'",
     "output_type": "error",
     "traceback": [
      "\u001b[1;31m---------------------------------------------------------------------------\u001b[0m",
      "\u001b[1;31mFileNotFoundError\u001b[0m                         Traceback (most recent call last)",
      "File \u001b[1;32md:\\Programs\\Anaconda3\\envs\\tensorch\\lib\\site-packages\\scipy\\io\\matlab\\_mio.py:39\u001b[0m, in \u001b[0;36m_open_file\u001b[1;34m(file_like, appendmat, mode)\u001b[0m\n\u001b[0;32m     38\u001b[0m \u001b[39mtry\u001b[39;00m:\n\u001b[1;32m---> 39\u001b[0m     \u001b[39mreturn\u001b[39;00m \u001b[39mopen\u001b[39;49m(file_like, mode), \u001b[39mTrue\u001b[39;00m\n\u001b[0;32m     40\u001b[0m \u001b[39mexcept\u001b[39;00m \u001b[39mOSError\u001b[39;00m \u001b[39mas\u001b[39;00m e:\n\u001b[0;32m     41\u001b[0m     \u001b[39m# Probably \"not found\"\u001b[39;00m\n",
      "\u001b[1;31mFileNotFoundError\u001b[0m: [Errno 2] No such file or directory: '../data/data_mt_bit.mat'",
      "\nDuring handling of the above exception, another exception occurred:\n",
      "\u001b[1;31mFileNotFoundError\u001b[0m                         Traceback (most recent call last)",
      "\u001b[1;32md:\\GitHubRepositories\\Study\\毕业设计\\全用pythonNN最终\\NN_pytorch2.ipynb 单元格 3\u001b[0m in \u001b[0;36m<cell line: 12>\u001b[1;34m()\u001b[0m\n\u001b[0;32m      <a href='vscode-notebook-cell:/d%3A/GitHubRepositories/Study/%E6%AF%95%E4%B8%9A%E8%AE%BE%E8%AE%A1/%E5%85%A8%E7%94%A8pythonNN%E6%9C%80%E7%BB%88/NN_pytorch2.ipynb#W2sZmlsZQ%3D%3D?line=8'>9</a>\u001b[0m optimizer_real \u001b[39m=\u001b[39m torch\u001b[39m.\u001b[39moptim\u001b[39m.\u001b[39mAdam(model_real\u001b[39m.\u001b[39mparameters(), lr\u001b[39m=\u001b[39m\u001b[39m0.001\u001b[39m)\n\u001b[0;32m     <a href='vscode-notebook-cell:/d%3A/GitHubRepositories/Study/%E6%AF%95%E4%B8%9A%E8%AE%BE%E8%AE%A1/%E5%85%A8%E7%94%A8pythonNN%E6%9C%80%E7%BB%88/NN_pytorch2.ipynb#W2sZmlsZQ%3D%3D?line=9'>10</a>\u001b[0m optimizer_imag \u001b[39m=\u001b[39m torch\u001b[39m.\u001b[39moptim\u001b[39m.\u001b[39mAdam(model_imag\u001b[39m.\u001b[39mparameters(), lr\u001b[39m=\u001b[39m\u001b[39m0.001\u001b[39m)\n\u001b[1;32m---> <a href='vscode-notebook-cell:/d%3A/GitHubRepositories/Study/%E6%AF%95%E4%B8%9A%E8%AE%BE%E8%AE%A1/%E5%85%A8%E7%94%A8pythonNN%E6%9C%80%E7%BB%88/NN_pytorch2.ipynb#W2sZmlsZQ%3D%3D?line=11'>12</a>\u001b[0m [X_real, X_imag, Y_real, Y_imag] \u001b[39m=\u001b[39m modify_data(\n\u001b[0;32m     <a href='vscode-notebook-cell:/d%3A/GitHubRepositories/Study/%E6%AF%95%E4%B8%9A%E8%AE%BE%E8%AE%A1/%E5%85%A8%E7%94%A8pythonNN%E6%9C%80%E7%BB%88/NN_pytorch2.ipynb#W2sZmlsZQ%3D%3D?line=12'>13</a>\u001b[0m     \u001b[39m'\u001b[39;49m\u001b[39m../data/data_mt_bit.mat\u001b[39;49m\u001b[39m'\u001b[39;49m, \u001b[39m'\u001b[39;49m\u001b[39mmt\u001b[39;49m\u001b[39m'\u001b[39;49m, mem_n)\n\u001b[0;32m     <a href='vscode-notebook-cell:/d%3A/GitHubRepositories/Study/%E6%AF%95%E4%B8%9A%E8%AE%BE%E8%AE%A1/%E5%85%A8%E7%94%A8pythonNN%E6%9C%80%E7%BB%88/NN_pytorch2.ipynb#W2sZmlsZQ%3D%3D?line=14'>15</a>\u001b[0m X_train_real, X_test_real, Y_train_real, Y_test_real \u001b[39m=\u001b[39m train_test_split(\n\u001b[0;32m     <a href='vscode-notebook-cell:/d%3A/GitHubRepositories/Study/%E6%AF%95%E4%B8%9A%E8%AE%BE%E8%AE%A1/%E5%85%A8%E7%94%A8pythonNN%E6%9C%80%E7%BB%88/NN_pytorch2.ipynb#W2sZmlsZQ%3D%3D?line=15'>16</a>\u001b[0m     X_real, Y_real, test_size\u001b[39m=\u001b[39m\u001b[39m0.2\u001b[39m, random_state\u001b[39m=\u001b[39m\u001b[39m42\u001b[39m)\n\u001b[0;32m     <a href='vscode-notebook-cell:/d%3A/GitHubRepositories/Study/%E6%AF%95%E4%B8%9A%E8%AE%BE%E8%AE%A1/%E5%85%A8%E7%94%A8pythonNN%E6%9C%80%E7%BB%88/NN_pytorch2.ipynb#W2sZmlsZQ%3D%3D?line=16'>17</a>\u001b[0m X_train_imag, X_test_imag, Y_train_imag, Y_test_imag \u001b[39m=\u001b[39m train_test_split(\n\u001b[0;32m     <a href='vscode-notebook-cell:/d%3A/GitHubRepositories/Study/%E6%AF%95%E4%B8%9A%E8%AE%BE%E8%AE%A1/%E5%85%A8%E7%94%A8pythonNN%E6%9C%80%E7%BB%88/NN_pytorch2.ipynb#W2sZmlsZQ%3D%3D?line=17'>18</a>\u001b[0m     X_imag, Y_imag, test_size\u001b[39m=\u001b[39m\u001b[39m0.2\u001b[39m, random_state\u001b[39m=\u001b[39m\u001b[39m42\u001b[39m)\n",
      "\u001b[1;32md:\\GitHubRepositories\\Study\\毕业设计\\全用pythonNN最终\\NN_pytorch2.ipynb 单元格 3\u001b[0m in \u001b[0;36mmodify_data\u001b[1;34m(path, key, mem_n)\u001b[0m\n\u001b[0;32m      <a href='vscode-notebook-cell:/d%3A/GitHubRepositories/Study/%E6%AF%95%E4%B8%9A%E8%AE%BE%E8%AE%A1/%E5%85%A8%E7%94%A8pythonNN%E6%9C%80%E7%BB%88/NN_pytorch2.ipynb#W2sZmlsZQ%3D%3D?line=8'>9</a>\u001b[0m \u001b[39mdef\u001b[39;00m \u001b[39mmodify_data\u001b[39m(path, key, mem_n):\n\u001b[1;32m---> <a href='vscode-notebook-cell:/d%3A/GitHubRepositories/Study/%E6%AF%95%E4%B8%9A%E8%AE%BE%E8%AE%A1/%E5%85%A8%E7%94%A8pythonNN%E6%9C%80%E7%BB%88/NN_pytorch2.ipynb#W2sZmlsZQ%3D%3D?line=9'>10</a>\u001b[0m     data \u001b[39m=\u001b[39m scio\u001b[39m.\u001b[39;49mloadmat(path)\n\u001b[0;32m     <a href='vscode-notebook-cell:/d%3A/GitHubRepositories/Study/%E6%AF%95%E4%B8%9A%E8%AE%BE%E8%AE%A1/%E5%85%A8%E7%94%A8pythonNN%E6%9C%80%E7%BB%88/NN_pytorch2.ipynb#W2sZmlsZQ%3D%3D?line=10'>11</a>\u001b[0m     data_x \u001b[39m=\u001b[39m data[key\u001b[39m+\u001b[39m\u001b[39m'\u001b[39m\u001b[39m_x\u001b[39m\u001b[39m'\u001b[39m]\n\u001b[0;32m     <a href='vscode-notebook-cell:/d%3A/GitHubRepositories/Study/%E6%AF%95%E4%B8%9A%E8%AE%BE%E8%AE%A1/%E5%85%A8%E7%94%A8pythonNN%E6%9C%80%E7%BB%88/NN_pytorch2.ipynb#W2sZmlsZQ%3D%3D?line=11'>12</a>\u001b[0m     data_y \u001b[39m=\u001b[39m data[key\u001b[39m+\u001b[39m\u001b[39m'\u001b[39m\u001b[39m_y\u001b[39m\u001b[39m'\u001b[39m]\n",
      "File \u001b[1;32md:\\Programs\\Anaconda3\\envs\\tensorch\\lib\\site-packages\\scipy\\io\\matlab\\_mio.py:224\u001b[0m, in \u001b[0;36mloadmat\u001b[1;34m(file_name, mdict, appendmat, **kwargs)\u001b[0m\n\u001b[0;32m     87\u001b[0m \u001b[39m\"\"\"\u001b[39;00m\n\u001b[0;32m     88\u001b[0m \u001b[39mLoad MATLAB file.\u001b[39;00m\n\u001b[0;32m     89\u001b[0m \n\u001b[1;32m   (...)\u001b[0m\n\u001b[0;32m    221\u001b[0m \u001b[39m    3.14159265+3.14159265j])\u001b[39;00m\n\u001b[0;32m    222\u001b[0m \u001b[39m\"\"\"\u001b[39;00m\n\u001b[0;32m    223\u001b[0m variable_names \u001b[39m=\u001b[39m kwargs\u001b[39m.\u001b[39mpop(\u001b[39m'\u001b[39m\u001b[39mvariable_names\u001b[39m\u001b[39m'\u001b[39m, \u001b[39mNone\u001b[39;00m)\n\u001b[1;32m--> 224\u001b[0m \u001b[39mwith\u001b[39;00m _open_file_context(file_name, appendmat) \u001b[39mas\u001b[39;00m f:\n\u001b[0;32m    225\u001b[0m     MR, _ \u001b[39m=\u001b[39m mat_reader_factory(f, \u001b[39m*\u001b[39m\u001b[39m*\u001b[39mkwargs)\n\u001b[0;32m    226\u001b[0m     matfile_dict \u001b[39m=\u001b[39m MR\u001b[39m.\u001b[39mget_variables(variable_names)\n",
      "File \u001b[1;32md:\\Programs\\Anaconda3\\envs\\tensorch\\lib\\contextlib.py:113\u001b[0m, in \u001b[0;36m_GeneratorContextManager.__enter__\u001b[1;34m(self)\u001b[0m\n\u001b[0;32m    111\u001b[0m \u001b[39mdel\u001b[39;00m \u001b[39mself\u001b[39m\u001b[39m.\u001b[39margs, \u001b[39mself\u001b[39m\u001b[39m.\u001b[39mkwds, \u001b[39mself\u001b[39m\u001b[39m.\u001b[39mfunc\n\u001b[0;32m    112\u001b[0m \u001b[39mtry\u001b[39;00m:\n\u001b[1;32m--> 113\u001b[0m     \u001b[39mreturn\u001b[39;00m \u001b[39mnext\u001b[39;49m(\u001b[39mself\u001b[39;49m\u001b[39m.\u001b[39;49mgen)\n\u001b[0;32m    114\u001b[0m \u001b[39mexcept\u001b[39;00m \u001b[39mStopIteration\u001b[39;00m:\n\u001b[0;32m    115\u001b[0m     \u001b[39mraise\u001b[39;00m \u001b[39mRuntimeError\u001b[39;00m(\u001b[39m\"\u001b[39m\u001b[39mgenerator didn\u001b[39m\u001b[39m'\u001b[39m\u001b[39mt yield\u001b[39m\u001b[39m\"\u001b[39m) \u001b[39mfrom\u001b[39;00m \u001b[39mNone\u001b[39m\n",
      "File \u001b[1;32md:\\Programs\\Anaconda3\\envs\\tensorch\\lib\\site-packages\\scipy\\io\\matlab\\_mio.py:17\u001b[0m, in \u001b[0;36m_open_file_context\u001b[1;34m(file_like, appendmat, mode)\u001b[0m\n\u001b[0;32m     15\u001b[0m \u001b[39m@contextmanager\u001b[39m\n\u001b[0;32m     16\u001b[0m \u001b[39mdef\u001b[39;00m \u001b[39m_open_file_context\u001b[39m(file_like, appendmat, mode\u001b[39m=\u001b[39m\u001b[39m'\u001b[39m\u001b[39mrb\u001b[39m\u001b[39m'\u001b[39m):\n\u001b[1;32m---> 17\u001b[0m     f, opened \u001b[39m=\u001b[39m _open_file(file_like, appendmat, mode)\n\u001b[0;32m     18\u001b[0m     \u001b[39mtry\u001b[39;00m:\n\u001b[0;32m     19\u001b[0m         \u001b[39myield\u001b[39;00m f\n",
      "File \u001b[1;32md:\\Programs\\Anaconda3\\envs\\tensorch\\lib\\site-packages\\scipy\\io\\matlab\\_mio.py:45\u001b[0m, in \u001b[0;36m_open_file\u001b[1;34m(file_like, appendmat, mode)\u001b[0m\n\u001b[0;32m     43\u001b[0m     \u001b[39mif\u001b[39;00m appendmat \u001b[39mand\u001b[39;00m \u001b[39mnot\u001b[39;00m file_like\u001b[39m.\u001b[39mendswith(\u001b[39m'\u001b[39m\u001b[39m.mat\u001b[39m\u001b[39m'\u001b[39m):\n\u001b[0;32m     44\u001b[0m         file_like \u001b[39m+\u001b[39m\u001b[39m=\u001b[39m \u001b[39m'\u001b[39m\u001b[39m.mat\u001b[39m\u001b[39m'\u001b[39m\n\u001b[1;32m---> 45\u001b[0m     \u001b[39mreturn\u001b[39;00m \u001b[39mopen\u001b[39;49m(file_like, mode), \u001b[39mTrue\u001b[39;00m\n\u001b[0;32m     46\u001b[0m \u001b[39melse\u001b[39;00m:\n\u001b[0;32m     47\u001b[0m     \u001b[39mraise\u001b[39;00m \u001b[39mOSError\u001b[39;00m(\n\u001b[0;32m     48\u001b[0m         \u001b[39m'\u001b[39m\u001b[39mReader needs file name or open file-like object\u001b[39m\u001b[39m'\u001b[39m\n\u001b[0;32m     49\u001b[0m     ) \u001b[39mfrom\u001b[39;00m \u001b[39me\u001b[39;00m\n",
      "\u001b[1;31mFileNotFoundError\u001b[0m: [Errno 2] No such file or directory: '../data/data_mt_bit.mat'"
     ]
    }
   ],
   "source": [
    "device = torch.device(\"cuda:0\" if torch.cuda.is_available() else \"cpu\")\n",
    "print(device)\n",
    "mem_n = 40\n",
    "model_real = Model().to(device)\n",
    "model_imag = Model().to(device)\n",
    "loss_real = nn.MSELoss()\n",
    "loss_imag = nn.MSELoss()\n",
    "\n",
    "optimizer_real = torch.optim.Adam(model_real.parameters(), lr=0.001)\n",
    "optimizer_imag = torch.optim.Adam(model_imag.parameters(), lr=0.001)\n",
    "\n",
    "[X_real, X_imag, Y_real, Y_imag] = modify_data(\n",
    "    '../data/data_mt_bit.mat', 'mt', mem_n)\n",
    "\n",
    "X_train_real, X_test_real, Y_train_real, Y_test_real = train_test_split(\n",
    "    X_real, Y_real, test_size=0.2, random_state=42)\n",
    "X_train_imag, X_test_imag, Y_train_imag, Y_test_imag = train_test_split(\n",
    "    X_imag, Y_imag, test_size=0.2, random_state=42)\n",
    "\n",
    "x_train_real = torch.FloatTensor(X_train_real)\n",
    "y_train_real = torch.FloatTensor(Y_train_real)\n",
    "x_train_imag = torch.FloatTensor(X_train_imag)\n",
    "y_train_imag = torch.FloatTensor(Y_train_imag)\n",
    "\n",
    "model_real = train(3000, model_real, x_train_real,\n",
    "                   y_train_real, loss_real, optimizer_real, device)\n",
    "model_imag = train(3000, model_imag, x_train_imag,\n",
    "                   y_train_imag, loss_imag, optimizer_imag, device)\n"
   ]
  },
  {
   "cell_type": "code",
   "execution_count": 44,
   "metadata": {},
   "outputs": [
    {
     "name": "stderr",
     "output_type": "stream",
     "text": [
      "C:\\Users\\kevin\\AppData\\Local\\Temp\\ipykernel_21888\\795145293.py:78: UserWarning: Implicit dimension choice for softmax has been deprecated. Change the call to include dim=X as an argument.\n",
      "  x = self.act5(x)\n"
     ]
    }
   ],
   "source": [
    "x_test_real = torch.FloatTensor(X_test_real)\n",
    "y_test_real = torch.FloatTensor(Y_test_real)\n",
    "x_test_imag = torch.FloatTensor(X_test_imag)\n",
    "y_test_imag = torch.FloatTensor(Y_test_imag)\n",
    "\n",
    "Y_pred_real = []\n",
    "Y_pred_imag = []\n",
    "with torch.no_grad():\n",
    "    x_test = x_test_imag.to(device)\n",
    "    Y_pred_imag = model_imag.forward(x_test)\n",
    "    Y_pred_imag = Y_pred_imag.cpu()\n",
    "    Y_pred_imag = Y_pred_imag.numpy()\n",
    "        \n",
    "with torch.no_grad():\n",
    "    x_test = x_test_real.to(device)\n",
    "    Y_pred_real = model_real.forward(x_test)\n",
    "    Y_pred_real = Y_pred_real.cpu()\n",
    "    Y_pred_real = Y_pred_real.numpy()"
   ]
  },
  {
   "cell_type": "code",
   "execution_count": 45,
   "metadata": {},
   "outputs": [],
   "source": [
    "\n",
    "Y_pred_real = np.round(Y_pred_real)\n",
    "Y_pred_real = np.round(Y_pred_real)\n",
    "X_real_new = X_test_real[:, 0].reshape(-1,1)\n",
    "X_imag_new = X_test_imag[:, 0].reshape(-1,1)\n",
    "scio.savemat('../data_out/E_eq_mt_bit.mat', mdict={'y_test_real': Y_test_real,\n",
    "                                               'y_test_imag': Y_test_imag,\n",
    "                                               'x_test_real': X_real_new,\n",
    "                                               'x_test_imag': X_imag_new,\n",
    "                                               'y_pred_real': Y_pred_real,\n",
    "                                               'y_pred_imag': Y_pred_imag})"
   ]
  },
  {
   "cell_type": "code",
   "execution_count": 5,
   "metadata": {},
   "outputs": [],
   "source": [
    "a = 10\n",
    "c = 'prbs'+str(a)"
   ]
  }
 ],
 "metadata": {
  "kernelspec": {
   "display_name": "tensorch",
   "language": "python",
   "name": "python3"
  },
  "language_info": {
   "codemirror_mode": {
    "name": "ipython",
    "version": 3
   },
   "file_extension": ".py",
   "mimetype": "text/x-python",
   "name": "python",
   "nbconvert_exporter": "python",
   "pygments_lexer": "ipython3",
   "version": "3.8.13"
  },
  "orig_nbformat": 4
 },
 "nbformat": 4,
 "nbformat_minor": 2
}
