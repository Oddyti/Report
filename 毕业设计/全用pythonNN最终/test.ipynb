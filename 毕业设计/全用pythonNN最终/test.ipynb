{
 "cells": [
  {
   "cell_type": "code",
   "execution_count": null,
   "metadata": {},
   "outputs": [
    {
     "ename": "",
     "evalue": "",
     "output_type": "error",
     "traceback": [
      "\u001b[1;31m内核启动失败，因为无法加载 dll。\n",
      "\u001b[1;31m有关详细信息，请单击 <a href=\"https://aka.ms/kernelFailuresDllLoad\">此处</a>。"
     ]
    }
   ],
   "source": [
    "import torch\n",
    "import torch.nn as nn\n",
    "import scipy.io as scio\n",
    "import numpy as np\n",
    "import matplotlib.pyplot as plt\n",
    "from sklearn.model_selection import train_test_split\n",
    "\n",
    "\n",
    "def modify_data(path, key, mem_n):\n",
    "    data = scio.loadmat(path)\n",
    "    data_x = data['sig_x' + str(key)]\n",
    "    data_y = data['sig_y' + str(key)]\n",
    "    L = len(data_x)\n",
    "    data_x_temp = np.pad(data_x, ((0, mem_n), (0, 0)), 'wrap').T\n",
    "    data_x_temp_real = np.real(data_x_temp)\n",
    "    data_x_temp_imag = np.imag(data_x_temp)\n",
    "    data_x_new_real = np.zeros([L, mem_n])\n",
    "    data_x_new_imag = np.zeros([L, mem_n])\n",
    "    for i in range(L):\n",
    "        data_x_new_real[i, :] = data_x_temp_real[:, i:mem_n+i]\n",
    "        data_x_new_imag[i, :] = data_x_temp_imag[:, i:mem_n+i]\n",
    "\n",
    "    data_y_real = np.real(data_y)\n",
    "    data_y_imag = np.imag(data_y)\n",
    "    return data_x_new_real, data_x_new_imag, data_y_real, data_y_imag\n",
    "\n",
    "\n",
    "def train(epochs, model, x_train, y_train, criterion, optimizer, device):\n",
    "    train_loss = []\n",
    "    for i in range(epochs):\n",
    "        x_train = x_train.to(device)\n",
    "        y_train = y_train.to(device)\n",
    "        y_pred = model.forward(x_train)\n",
    "        loss = criterion(y_pred, y_train)\n",
    "        train_loss.append(loss.item())\n",
    "        if i % 10 == 0:\n",
    "            print(f'Epoch: {i} Loss: {loss}')\n",
    "\n",
    "        optimizer.zero_grad()\n",
    "        loss.backward()\n",
    "        optimizer.step()\n",
    "\n",
    "    # 绘图代码\n",
    "    plt.plot(np.arange(len(train_loss)), train_loss, label=\"train loss\")\n",
    "    plt.legend()  # 显示图例\n",
    "    plt.xlabel('epoches')\n",
    "    plt.title('loss')\n",
    "    plt.show()\n",
    "\n",
    "    return model\n",
    "\n",
    "\n",
    "class Model(nn.Module):\n",
    "    def __init__(self):\n",
    "        super(Model, self).__init__()\n",
    "        self.linear1 = nn.Linear(40, 46)\n",
    "        self.act1 = nn.Tanh()\n",
    "        self.linear2 = nn.Linear(46, 30)\n",
    "        self.act2 = nn.Tanh()\n",
    "        self.linear3 = nn.Linear(30, 24)\n",
    "        self.act3 = nn.Tanh()\n",
    "        self.linear4 = nn.Linear(24, 16)\n",
    "        self.act4 = nn.PReLU(16)\n",
    "        self.output = nn.Linear(16, 1)\n",
    "\n",
    "    # 前向传播\n",
    "    def forward(self, x):\n",
    "        x = self.linear1(x)\n",
    "        x = self.act1(x)\n",
    "        x = self.linear2(x)\n",
    "        x = self.act2(x)\n",
    "        x = self.linear3(x)\n",
    "        x = self.act3(x)\n",
    "        x = self.linear4(x)\n",
    "        x = self.act4(x)\n",
    "        x = self.output(x)\n",
    "        return x"
   ]
  },
  {
   "cell_type": "code",
   "execution_count": 12,
   "metadata": {},
   "outputs": [
    {
     "name": "stdout",
     "output_type": "stream",
     "text": [
      "Epoch: 0 Loss: 4.811054229736328\n",
      "Epoch: 10 Loss: 0.7465019226074219\n",
      "Epoch: 20 Loss: 0.10530786216259003\n",
      "Epoch: 30 Loss: 0.043603744357824326\n",
      "Epoch: 40 Loss: 0.024643756449222565\n",
      "Epoch: 50 Loss: 0.013661480508744717\n",
      "Epoch: 60 Loss: 0.01133259292691946\n",
      "Epoch: 70 Loss: 0.009779059328138828\n",
      "Epoch: 80 Loss: 0.008833632804453373\n",
      "Epoch: 90 Loss: 0.008119518868625164\n",
      "Epoch: 100 Loss: 0.007502779830247164\n",
      "Epoch: 110 Loss: 0.006985560990869999\n",
      "Epoch: 120 Loss: 0.0065204002894461155\n",
      "Epoch: 130 Loss: 0.00611359067261219\n",
      "Epoch: 140 Loss: 0.005733857396990061\n",
      "Epoch: 150 Loss: 0.005383078940212727\n",
      "Epoch: 160 Loss: 0.005046089645475149\n",
      "Epoch: 170 Loss: 0.004736011382192373\n",
      "Epoch: 180 Loss: 0.004458324518054724\n",
      "Epoch: 190 Loss: 0.004144093953073025\n"
     ]
    },
    {
     "data": {
      "image/png": "[encoded data removed]",
      "text/plain": [
       "<Figure size 432x288 with 1 Axes>"
      ]
     },
     "metadata": {
      "needs_background": "light"
     },
     "output_type": "display_data"
    },
    {
     "name": "stdout",
     "output_type": "stream",
     "text": [
      "Epoch: 0 Loss: 4.667092800140381\n",
      "Epoch: 10 Loss: 0.6187670826911926\n",
      "Epoch: 20 Loss: 0.09430602937936783\n",
      "Epoch: 30 Loss: 0.04498101770877838\n",
      "Epoch: 40 Loss: 0.01913139969110489\n",
      "Epoch: 50 Loss: 0.013924655504524708\n",
      "Epoch: 60 Loss: 0.011041229590773582\n",
      "Epoch: 70 Loss: 0.00966459047049284\n",
      "Epoch: 80 Loss: 0.008640448562800884\n",
      "Epoch: 90 Loss: 0.007933473214507103\n",
      "Epoch: 100 Loss: 0.007330181077122688\n",
      "Epoch: 110 Loss: 0.006868056952953339\n",
      "Epoch: 120 Loss: 0.006466446444392204\n",
      "Epoch: 130 Loss: 0.006108578760176897\n",
      "Epoch: 140 Loss: 0.005790522322058678\n",
      "Epoch: 150 Loss: 0.005511462222784758\n",
      "Epoch: 160 Loss: 0.005266375839710236\n",
      "Epoch: 170 Loss: 0.005055631045252085\n",
      "Epoch: 180 Loss: 0.00487356074154377\n",
      "Epoch: 190 Loss: 0.004712273832410574\n"
     ]
    },
    {
     "data": {
      "image/png": "[encoded data removed]",
      "text/plain": [
       "<Figure size 432x288 with 1 Axes>"
      ]
     },
     "metadata": {
      "needs_background": "light"
     },
     "output_type": "display_data"
    },
    {
     "name": "stdout",
     "output_type": "stream",
     "text": [
      "10\n"
     ]
    }
   ],
   "source": [
    "device = torch.device(\"cuda:0\" if torch.cuda.is_available() else \"cpu\")\n",
    "mem_n = 40\n",
    "\n",
    "# 10个不同PRBS\n",
    "for PRBS_N in range(1):\n",
    "    model_real = Model().to(device)\n",
    "    model_imag = Model().to(device)\n",
    "    loss_real = nn.MSELoss()\n",
    "    loss_imag = nn.MSELoss()\n",
    "\n",
    "    optimizer_real = torch.optim.Adam(model_real.parameters(), lr=0.01)\n",
    "    optimizer_imag = torch.optim.Adam(model_imag.parameters(), lr=0.01)\n",
    "\n",
    "    [X_real, X_imag, Y_real, Y_imag] = modify_data(\n",
    "        'data/data_diffPRBS.mat', '_prbs'+str(PRBS_N+4), mem_n)\n",
    "\n",
    "    X_train_real, X_test_real, Y_train_real, Y_test_real = train_test_split(\n",
    "        X_real, Y_real, test_size=0.4, random_state=42)\n",
    "    X_train_imag, X_test_imag, Y_train_imag, Y_test_imag = train_test_split(\n",
    "        X_imag, Y_imag, test_size=0.4, random_state=42)\n",
    "\n",
    "    x_train_real = torch.FloatTensor(X_train_real)\n",
    "    y_train_real = torch.FloatTensor(Y_train_real)\n",
    "    x_train_imag = torch.FloatTensor(X_train_imag)\n",
    "    y_train_imag = torch.FloatTensor(Y_train_imag)\n",
    "\n",
    "    model_real = train(200, model_real, x_train_real,\n",
    "                       y_train_real, loss_real, optimizer_real, device)\n",
    "    model_imag = train(200, model_imag, x_train_imag,\n",
    "                       y_train_imag, loss_imag, optimizer_imag, device)\n",
    "    \n",
    "    x_test_real = torch.FloatTensor(X_test_real)\n",
    "    y_test_real = torch.FloatTensor(Y_test_real)\n",
    "    x_test_imag = torch.FloatTensor(X_test_imag)\n",
    "    y_test_imag = torch.FloatTensor(Y_test_imag)\n",
    "\n",
    "    Y_pred_real = []\n",
    "    Y_pred_imag = []\n",
    "    with torch.no_grad():\n",
    "        x_test = x_test_imag.to(device)\n",
    "        Y_pred_imag = model_imag.forward(x_test)\n",
    "        Y_pred_imag = Y_pred_imag.cpu()\n",
    "        Y_pred_imag = Y_pred_imag.numpy()\n",
    "\n",
    "    with torch.no_grad():\n",
    "        x_test = x_test_real.to(device)\n",
    "        Y_pred_real = model_real.forward(x_test)\n",
    "        Y_pred_real = Y_pred_real.cpu()\n",
    "        Y_pred_real = Y_pred_real.numpy()\n",
    "    print(10)\n",
    "\n"
   ]
  },
  {
   "cell_type": "code",
   "execution_count": null,
   "metadata": {},
   "outputs": [],
   "source": [
    "\n",
    "x_test_real = torch.FloatTensor(X_test_real)\n",
    "y_test_real = torch.FloatTensor(Y_test_real)\n",
    "x_test_imag = torch.FloatTensor(X_test_imag)\n",
    "y_test_imag = torch.FloatTensor(Y_test_imag)\n",
    "\n",
    "Y_pred_real = []\n",
    "Y_pred_imag = []\n",
    "with torch.no_grad():\n",
    "    x_test = x_test_imag.to(device)\n",
    "    Y_pred_imag = model_imag.forward(x_test)\n",
    "    Y_pred_imag = Y_pred_imag.cpu()\n",
    "    Y_pred_imag = Y_pred_imag.numpy()\n",
    "\n",
    "with torch.no_grad():\n",
    "    x_test = x_test_real.to(device)\n",
    "    Y_pred_real = model_real.forward(x_test)\n",
    "    Y_pred_real = Y_pred_real.cpu()\n",
    "    Y_pred_real = Y_pred_real.numpy()\n",
    "print(10)"
   ]
  }
 ],
 "metadata": {
  "kernelspec": {
   "display_name": "tensorch",
   "language": "python",
   "name": "python3"
  },
  "language_info": {
   "codemirror_mode": {
    "name": "ipython",
    "version": 3
   },
   "file_extension": ".py",
   "mimetype": "text/x-python",
   "name": "python",
   "nbconvert_exporter": "python",
   "pygments_lexer": "ipython3",
   "version": "3.8.16"
  },
  "orig_nbformat": 4
 },
 "nbformat": 4,
 "nbformat_minor": 2
}
