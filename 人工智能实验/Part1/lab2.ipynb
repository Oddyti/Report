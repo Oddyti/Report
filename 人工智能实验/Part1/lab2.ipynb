{
 "cells": [
  {
   "cell_type": "code",
   "execution_count": 4,
   "metadata": {},
   "outputs": [
    {
     "name": "stdout",
     "output_type": "stream",
     "text": [
      "正确率%95.00\n"
     ]
    }
   ],
   "source": [
    "import pandas as pd\n",
    "import numpy as np\n",
    "from sklearn.model_selection import train_test_split\n",
    "import kNN\n",
    "\n",
    "df = pd.read_table('datingTestSet2.txt',sep='\\s+', names = ['A', 'B', 'C', 'Y'])\n",
    "df2 = df.iloc[:, :3]\n",
    "df2 = (df2-df2.mean())/df2.std()    \n",
    "lable =df.iloc[:,3:4]\n",
    "df2.loc[:, 'Y'] = lable\n",
    "X_train, X_test, Y_train, Y_test = train_test_split(df2.iloc[:, :3], df2.Y, train_size=.90)\n",
    "group = X_train.values\n",
    "label = Y_train.values\n",
    "length = len(X_test)\n",
    "X_test.iloc[0:1,:]\n",
    "res = []\n",
    "Tnum = 0\n",
    "Fnum = 0\n",
    "for i in range(length):\n",
    "    inX = X_test.iloc[i:i+1 , :].values\n",
    "    res.append(kNN.classify0(inX, group, label, k = 3))\n",
    "    if(kNN.classify0(inX, group, label, k = 3) == Y_test.values[i]):\n",
    "        # print('True')\n",
    "        Tnum += 1\n",
    "    else:\n",
    "        # print('False')\n",
    "        Fnum += 1\n",
    "\n",
    "print('正确率%%%.2f' %(100*Tnum/(Tnum+Fnum)))\n"
   ]
  },
  {
   "cell_type": "markdown",
   "metadata": {},
   "source": []
  }
 ],
 "metadata": {
  "interpreter": {
   "hash": "dbb0f4bc1de94fc3f1f873c9db95dfd23aae5c25d54524bdc1184346fdea4657"
  },
  "kernelspec": {
   "display_name": "Python 3.7.0 ('tensorflow')",
   "language": "python",
   "name": "python3"
  },
  "language_info": {
   "codemirror_mode": {
    "name": "ipython",
    "version": 3
   },
   "file_extension": ".py",
   "mimetype": "text/x-python",
   "name": "python",
   "nbconvert_exporter": "python",
   "pygments_lexer": "ipython3",
   "version": "3.7.0"
  },
  "orig_nbformat": 4
 },
 "nbformat": 4,
 "nbformat_minor": 2
}
