{
 "cells": [
  {
   "cell_type": "code",
   "execution_count": 13,
   "metadata": {},
   "outputs": [
    {
     "name": "stdout",
     "output_type": "stream",
     "text": [
      "10\n",
      "自定义函数中的num =  10\n",
      "函数调用后num =  10\n",
      "(1, 2, 3)\n",
      "2\n",
      "(1, 2, 3)\n",
      "函数中的list ： (1, 2, 3)\n",
      "2\n",
      "自定义函数中的num =  2\n",
      "(3, 2, 1)\n",
      "2\n",
      "(3, 2, 1)\n",
      "函数中的list ： (3, 2, 1)\n",
      "2\n",
      "自定义函数中的num =  2\n"
     ]
    }
   ],
   "source": [
    "def changeNum(num):\n",
    "    changeListPrint(num)\n",
    "    print(\"自定义函数中的num = \", num)\n",
    "  \n",
    "def changeListPrint(list):\n",
    "    print(list)\n",
    " \n",
    "# 定义变量num，赋初始值为10\n",
    "num = 10\n",
    "changeNum(num)\n",
    "print(\"函数调用后num = \", num)\n",
    " \n",
    "def changeList(list1) :\n",
    "    changeListPrint(list1)\n",
    "    print(\"函数中的list ：\", list1)\n",
    " \n",
    "# 定义变量num，赋初始值为10\n",
    "list1 = [(1, 2, 3), (3, 2, 1)]\n",
    "for i in list1:\n",
    "    print(i)\n",
    "    print(i[1])\n",
    "    changeList(i)\n",
    "    changeNum(i[1])\n",
    "# print(\"调用函数前的list: \", list1)\n",
    "# changeList(list1)\n",
    "# print(\"调用函数后的list：\", list1)"
   ]
  }
 ],
 "metadata": {
  "interpreter": {
   "hash": "4480e32245891b07b354378c7dbc380a1b3f17ee24171af64af582c25470e498"
  },
  "kernelspec": {
   "display_name": "Python 3.9.7 ('base')",
   "language": "python",
   "name": "python3"
  },
  "language_info": {
   "codemirror_mode": {
    "name": "ipython",
    "version": 3
   },
   "file_extension": ".py",
   "mimetype": "text/x-python",
   "name": "python",
   "nbconvert_exporter": "python",
   "pygments_lexer": "ipython3",
   "version": "3.9.7"
  },
  "orig_nbformat": 4
 },
 "nbformat": 4,
 "nbformat_minor": 2
}
