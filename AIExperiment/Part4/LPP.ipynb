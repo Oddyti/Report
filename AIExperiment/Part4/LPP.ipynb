{
 "cells": [
  {
   "cell_type": "code",
   "execution_count": 2,
   "metadata": {},
   "outputs": [
    {
     "data": {
      "text/plain": [
       "<matplotlib.collections.PathCollection at 0x7fda4cf49d00>"
      ]
     },
     "execution_count": 2,
     "metadata": {},
     "output_type": "execute_result"
    },
    {
     "data": {
      "image/png": "[encoded data removed]",
      "text/plain": [
       "<Figure size 432x288 with 1 Axes>"
      ]
     },
     "metadata": {
      "needs_background": "light"
     },
     "output_type": "display_data"
    }
   ],
   "source": [
    "import numpy as np\n",
    "import matplotlib.pyplot as plt\n",
    "from sklearn.datasets import load_digits\n",
    "\n",
    "def cal_W(data, n_neighbor, t):\n",
    "    sum_x = np.sum(np.square(data), 1)\n",
    "    dist = np.add(np.add(-2 * np.dot(data, data.T), sum_x).T, sum_x)\n",
    "    rbf_dist = np.exp(-(dist/t))\n",
    "    dist[dist<0] = 0\n",
    "    n = dist.shape[0]\n",
    "    W = np.zeros((n,n))\n",
    "    for i in range(n):\n",
    "        index_ = np.argsort(dist[i])[1:1 + n_neighbor]\n",
    "        W[i, index_] = rbf_dist[i, index_]\n",
    "        W[index_, i] = rbf_dist[index_, i] \n",
    "    return W\n",
    "\n",
    "def LPP(data, n_dim , n_neighbor, t):\n",
    "    M = data.shape[0]\n",
    "    W = cal_W(data, n_neighbor, t)\n",
    "    D = np.zeros_like(W)\n",
    "    for i in range(M):\n",
    "        D[i,i] = np.sum(W[i])\n",
    "    L = D - W\n",
    "    XDXT = np.dot(np.dot(data.T, D), data)\n",
    "    XLXT = np.dot(np.dot(data.T, L), data)\n",
    "    val, vec = np.linalg.eig(np.dot(np.linalg.pinv(XDXT),XLXT))\n",
    "    index = np.argsort(np.abs(val))\n",
    "    val = val[index]\n",
    "    j = 0\n",
    "    while val[j] < 1e-6:\n",
    "        j+=1\n",
    "    index = index[j:j+n_dim]\n",
    "    vec_new = vec[:,index]\n",
    "    data_new = np.dot(data, vec_new)\n",
    "    \n",
    "    return data_new\n",
    "    \n",
    "X = load_digits().data\n",
    "# X = np.array([[1,2,3],[4,5,6],[7,8,9],[10,11,12]])\n",
    "\n",
    "y = load_digits().target\n",
    "\n",
    "data_new = LPP(X, n_dim = 2, n_neighbor = 5, t = 1)\n",
    "\n",
    "plt.figure\n",
    "plt.title('LPP')\n",
    "plt.scatter(data_new[:,0], data_new[:,1], c = y)\n",
    "    "
   ]
  }
 ],
 "metadata": {
  "interpreter": {
   "hash": "e17245beed66d97676295f18f5af02f52c1ff0b20014505018e20bb50c7c46d6"
  },
  "kernelspec": {
   "display_name": "Python 3.9.7 64-bit ('base': conda)",
   "language": "python",
   "name": "python3"
  },
  "language_info": {
   "codemirror_mode": {
    "name": "ipython",
    "version": 3
   },
   "file_extension": ".py",
   "mimetype": "text/x-python",
   "name": "python",
   "nbconvert_exporter": "python",
   "pygments_lexer": "ipython3",
   "version": "3.9.7"
  },
  "orig_nbformat": 4
 },
 "nbformat": 4,
 "nbformat_minor": 2
}
