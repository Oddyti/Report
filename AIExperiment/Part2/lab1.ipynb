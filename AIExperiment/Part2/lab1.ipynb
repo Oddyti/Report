{
 "cells": [
  {
   "cell_type": "code",
   "execution_count": 1,
   "metadata": {},
   "outputs": [
    {
     "name": "stdout",
     "output_type": "stream",
     "text": [
      "θ = [4.122495, 2.863779]\n",
      "x = 0 , y = 4.122495\n",
      "x = 2 , y = 9.850053\n"
     ]
    },
    {
     "data": {
      "text/plain": [
       "<function matplotlib.pyplot.show(close=None, block=None)>"
      ]
     },
     "execution_count": 1,
     "metadata": {},
     "output_type": "execute_result"
    },
    {
     "data": {
      "image/png": "[encoded data removed]",
      "text/plain": [
       "<Figure size 432x288 with 1 Axes>"
      ]
     },
     "metadata": {
      "needs_background": "light"
     },
     "output_type": "display_data"
    }
   ],
   "source": [
    "import matplotlib.pyplot as plt\n",
    "import numpy as np\n",
    "\n",
    "x = 2 * np.random.rand(100, 1)\n",
    "y = 4 + 3 * x + np.random.randn(100, 1)\n",
    "x1 = np.c_[np.ones(100 , float) , x]\n",
    "\n",
    "theta= np.dot(np.dot(np.linalg.inv(np.dot(np.transpose(x1), x1)), np.transpose(x1)), y)\n",
    "\n",
    "print('%c = [%f, %f]' %(chr(952), theta[0], theta[1]))\n",
    "y1 = theta[0] + theta[1] * 0\n",
    "print('x = 0 , y = %f' %(y1))\n",
    "y2 = theta[0] + theta[1] * 2\n",
    "print('x = 2 , y = %f' %(y2))\n",
    "y3 = theta[0] + theta[1] * x \n",
    "\n",
    "plt.scatter(x, y, label='original')\n",
    "plt.plot(x, y3, color='red', label='Predict')\n",
    "plt.legend()\n",
    "plt.xlabel('x')\n",
    "plt.ylabel('y')\n",
    "plt.savefig('figure1.png', dpi = 300)\n",
    "plt.show"
   ]
  }
 ],
 "metadata": {
  "interpreter": {
   "hash": "e17245beed66d97676295f18f5af02f52c1ff0b20014505018e20bb50c7c46d6"
  },
  "kernelspec": {
   "display_name": "Python 3.9.7 64-bit ('base': conda)",
   "language": "python",
   "name": "python3"
  },
  "language_info": {
   "codemirror_mode": {
    "name": "ipython",
    "version": 3
   },
   "file_extension": ".py",
   "mimetype": "text/x-python",
   "name": "python",
   "nbconvert_exporter": "python",
   "pygments_lexer": "ipython3",
   "version": "3.9.7"
  },
  "orig_nbformat": 4
 },
 "nbformat": 4,
 "nbformat_minor": 2
}
