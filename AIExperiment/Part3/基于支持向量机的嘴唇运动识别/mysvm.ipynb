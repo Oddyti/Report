{
 "cells": [
  {
   "cell_type": "code",
   "execution_count": 105,
   "metadata": {},
   "outputs": [
    {
     "name": "stdout",
     "output_type": "stream",
     "text": [
      "            x1        x2        x3       x4       x5       x6  y\n",
      "25261  0.45889  0.378930       NaN  0.38538  0.34121  0.34256 -1\n",
      "25264  0.37893       NaN  0.080724  0.34121  0.34256  0.27773 -1\n",
      "25267      NaN  0.080724  0.536940  0.34256  0.27773  0.33724 -1\n",
      "Empty DataFrame\n",
      "Columns: [x1, x2, x3, x4, x5, x6, y]\n",
      "Index: []\n"
     ]
    }
   ],
   "source": [
    "import pandas as pd\n",
    "import numpy as np\n",
    "from sklearn.model_selection import train_test_split\n",
    "\n",
    "df = pd.read_table('training.data', sep = ' ', names = ['x1', 'x2', \"x3\", \"x4\", \"x5\", \"x6\", \"y\"])\n",
    "df.iloc[25257:25274,:]\n",
    "print(df[df.isnull().values==True]) # 查找所有带NaN值的数据\n",
    "df = df.dropna()\n",
    "print(df[df.isnull().values==True]) # 查找所有带NaN值的数据\n",
    "\n"
   ]
  },
  {
   "cell_type": "code",
   "execution_count": 108,
   "metadata": {},
   "outputs": [
    {
     "name": "stdout",
     "output_type": "stream",
     "text": [
      "-----x-----\n",
      "        x1       x2       x3       x4       x5       x6\n",
      "0  0.65307  0.91350  0.99926  0.18748  0.14696  0.16105\n",
      "1  0.95969  2.00650  3.36610  0.27832  0.25881  0.18512\n",
      "2  0.91350  0.99926  1.36200  0.14696  0.16105  0.19826\n",
      "3  2.00650  3.36610  2.87970  0.25881  0.18512  0.18681\n",
      "4  0.99926  1.36200  1.58480  0.16105  0.19826  0.34915\n",
      "-----y-----\n",
      "0   -1\n",
      "1    1\n",
      "2   -1\n",
      "3    1\n",
      "4   -1\n",
      "Name: y, dtype: int64\n"
     ]
    }
   ],
   "source": [
    "x = df.iloc[:,0:6]\n",
    "y = df.iloc[:,6]\n",
    "print('-----x-----')\n",
    "print(x.head())\n",
    "print('-----y-----')\n",
    "print(y.head())"
   ]
  },
  {
   "cell_type": "code",
   "execution_count": 109,
   "metadata": {},
   "outputs": [
    {
     "name": "stdout",
     "output_type": "stream",
     "text": [
      "                 x1            x2            x3            x4            x5  \\\n",
      "count  87829.000000  87829.000000  87829.000000  87829.000000  87829.000000   \n",
      "mean       0.959622      0.960344      0.958953      0.288920      0.290215   \n",
      "std        1.243179      1.244744      1.258171      0.130629      0.130491   \n",
      "min        0.000000      0.000000      0.000000      0.000000      0.053072   \n",
      "25%        0.257410      0.257400      0.256860      0.197820      0.198430   \n",
      "50%        0.643610      0.643910      0.642950      0.265980      0.266640   \n",
      "75%        1.236900      1.238400      1.235800      0.356940      0.357400   \n",
      "max       45.498300     45.498300     60.345800      1.442900      1.442900   \n",
      "\n",
      "                 x6  \n",
      "count  87829.000000  \n",
      "mean       0.288954  \n",
      "std        0.130718  \n",
      "min        0.000000  \n",
      "25%        0.197840  \n",
      "50%        0.266020  \n",
      "75%        0.357040  \n",
      "max        1.442900  \n"
     ]
    }
   ],
   "source": [
    "print(x.describe())"
   ]
  },
  {
   "cell_type": "code",
   "execution_count": 103,
   "metadata": {},
   "outputs": [
    {
     "name": "stdout",
     "output_type": "stream",
     "text": [
      "         x1        x2        x3        x4        x5        x6\n",
      "0 -0.246587 -0.037633  0.032036 -0.776554 -1.097814 -0.978470\n",
      "1  0.000054  0.840459  1.913211 -0.081147 -0.240666 -0.794333\n",
      "2 -0.037100  0.031265  0.320344 -1.086746 -0.989837 -0.693811\n",
      "3  0.842097  1.932732  1.526618 -0.230501 -0.805380 -0.781404\n",
      "4  0.031884  0.322682  0.497426 -0.978883 -0.704683  0.460505\n",
      "                 x1            x2            x3            x4            x5  \\\n",
      "count  8.782900e+04  8.782900e+04  8.782900e+04  8.782900e+04  8.782900e+04   \n",
      "mean  -1.608767e-15 -1.673571e-15  1.574722e-15  3.814594e-16  5.368469e-16   \n",
      "std    1.000000e+00  1.000000e+00  1.000000e+00  1.000000e+00  1.000000e+00   \n",
      "min   -7.719098e-01 -7.715193e-01 -7.621802e-01 -2.211769e+00 -1.817313e+00   \n",
      "25%   -5.648520e-01 -5.647297e-01 -5.580267e-01 -6.973980e-01 -7.033807e-01   \n",
      "50%   -2.541969e-01 -2.542160e-01 -2.511606e-01 -1.756130e-01 -1.806622e-01   \n",
      "75%    2.230391e-01  2.233844e-01  2.200392e-01  5.207128e-01  5.148652e-01   \n",
      "max    3.582643e+01  3.578083e+01  4.720093e+01  8.834059e+00  8.833453e+00   \n",
      "\n",
      "                 x6  \n",
      "count  8.782900e+04  \n",
      "mean  -3.943770e-16  \n",
      "std    1.000000e+00  \n",
      "min   -2.210510e+00  \n",
      "25%   -6.970241e-01  \n",
      "50%   -1.754435e-01  \n",
      "75%    5.208642e-01  \n",
      "max    8.827750e+00  \n"
     ]
    }
   ],
   "source": [
    "x = (x - x.mean())/x.std()\n",
    "print(x.head())\n",
    "print(x.describe())"
   ]
  },
  {
   "cell_type": "code",
   "execution_count": 1,
   "metadata": {},
   "outputs": [
    {
     "ename": "NameError",
     "evalue": "name 'X_train' is not defined",
     "output_type": "error",
     "traceback": [
      "\u001b[0;31m---------------------------------------------------------------------------\u001b[0m",
      "\u001b[0;31mNameError\u001b[0m                                 Traceback (most recent call last)",
      "\u001b[0;32m/var/folders/fk/6pzkgtds73l0gfngdc_71ljr0000gn/T/ipykernel_45433/2086429743.py\u001b[0m in \u001b[0;36m<module>\u001b[0;34m\u001b[0m\n\u001b[1;32m      5\u001b[0m     \u001b[0;32mfor\u001b[0m \u001b[0mj\u001b[0m \u001b[0;32min\u001b[0m \u001b[0;34m(\u001b[0m\u001b[0;34m-\u001b[0m\u001b[0;36m5\u001b[0m\u001b[0;34m,\u001b[0m \u001b[0;34m-\u001b[0m\u001b[0;36m4\u001b[0m\u001b[0;34m,\u001b[0m \u001b[0;34m-\u001b[0m\u001b[0;36m3\u001b[0m\u001b[0;34m,\u001b[0m \u001b[0;34m-\u001b[0m\u001b[0;36m2\u001b[0m\u001b[0;34m,\u001b[0m \u001b[0;34m-\u001b[0m\u001b[0;36m1\u001b[0m\u001b[0;34m,\u001b[0m \u001b[0;36m0\u001b[0m\u001b[0;34m,\u001b[0m \u001b[0;36m1\u001b[0m\u001b[0;34m,\u001b[0m \u001b[0;36m2\u001b[0m\u001b[0;34m,\u001b[0m \u001b[0;36m3\u001b[0m\u001b[0;34m,\u001b[0m \u001b[0;36m4\u001b[0m\u001b[0;34m,\u001b[0m \u001b[0;36m5\u001b[0m\u001b[0;34m)\u001b[0m\u001b[0;34m:\u001b[0m\u001b[0;34m\u001b[0m\u001b[0;34m\u001b[0m\u001b[0m\n\u001b[1;32m      6\u001b[0m         \u001b[0mG\u001b[0m \u001b[0;34m=\u001b[0m \u001b[0;36m2\u001b[0m \u001b[0;34m**\u001b[0m \u001b[0mj\u001b[0m\u001b[0;34m\u001b[0m\u001b[0;34m\u001b[0m\u001b[0m\n\u001b[0;32m----> 7\u001b[0;31m         \u001b[0mclf1\u001b[0m \u001b[0;34m=\u001b[0m \u001b[0msvm\u001b[0m\u001b[0;34m.\u001b[0m\u001b[0mSVC\u001b[0m\u001b[0;34m(\u001b[0m\u001b[0mkernel\u001b[0m\u001b[0;34m=\u001b[0m\u001b[0;34m'rbf'\u001b[0m\u001b[0;34m,\u001b[0m \u001b[0mgamma\u001b[0m\u001b[0;34m=\u001b[0m\u001b[0mG\u001b[0m\u001b[0;34m,\u001b[0m \u001b[0mC\u001b[0m\u001b[0;34m=\u001b[0m\u001b[0mC\u001b[0m\u001b[0;34m)\u001b[0m\u001b[0;34m.\u001b[0m\u001b[0mfit\u001b[0m\u001b[0;34m(\u001b[0m\u001b[0mX_train\u001b[0m\u001b[0;34m,\u001b[0m\u001b[0mY_train\u001b[0m\u001b[0;34m)\u001b[0m\u001b[0;34m\u001b[0m\u001b[0;34m\u001b[0m\u001b[0m\n\u001b[0m\u001b[1;32m      8\u001b[0m         \u001b[0my_predictions1\u001b[0m\u001b[0;34m=\u001b[0m\u001b[0mclf1\u001b[0m\u001b[0;34m.\u001b[0m\u001b[0mpredict\u001b[0m\u001b[0;34m(\u001b[0m\u001b[0mX_select\u001b[0m\u001b[0;34m)\u001b[0m\u001b[0;34m\u001b[0m\u001b[0;34m\u001b[0m\u001b[0m\n\u001b[1;32m      9\u001b[0m         \u001b[0mk\u001b[0m\u001b[0;34m=\u001b[0m\u001b[0;36m0\u001b[0m\u001b[0;34m\u001b[0m\u001b[0;34m\u001b[0m\u001b[0m\n",
      "\u001b[0;31mNameError\u001b[0m: name 'X_train' is not defined"
     ]
    }
   ],
   "source": [
    "from sklearn import svm\n",
    "from sklearn.model_selection import train_test_split\n",
    "X_train, X_select, Y_train, Y_select = train_test_split(x, y, train_size=.80, random_state=1)\n",
    "print(len(X_train))\n",
    "print(len(x))\n",
    "result =[]\n",
    "for i in (-5, -4, -3, -2, -1, 0, 1, 2, 3, 4, 5):\n",
    "    C = 2 ** i\n",
    "    for j in (-5, -4, -3, -2, -1, 0, 1, 2, 3, 4, 5):\n",
    "        G = 2 ** j\n",
    "        clf1 = svm.SVC(kernel='rbf', gamma=G, C=C).fit(X_train, Y_train)\n",
    "        y_predictions1=clf1.predict(X_select)\n",
    "        k=0\n",
    "        for i in range(len(Y_select)):\n",
    "            if y_predictions1[i]==Y_select[i]:\n",
    "                k+=1\n",
    "        result.append([C,G,k])\n",
    "        print([C,G,k])\n",
    "result1 = sorted(result, key=lambda x:x[2])\n",
    "\n",
    "for i in result1:\n",
    "    print(i)"
   ]
  }
 ],
 "metadata": {
  "interpreter": {
   "hash": "e17245beed66d97676295f18f5af02f52c1ff0b20014505018e20bb50c7c46d6"
  },
  "kernelspec": {
   "display_name": "Python 3.9.7 64-bit ('base': conda)",
   "language": "python",
   "name": "python3"
  },
  "language_info": {
   "codemirror_mode": {
    "name": "ipython",
    "version": 3
   },
   "file_extension": ".py",
   "mimetype": "text/x-python",
   "name": "python",
   "nbconvert_exporter": "python",
   "pygments_lexer": "ipython3",
   "version": "3.9.7"
  },
  "orig_nbformat": 4
 },
 "nbformat": 4,
 "nbformat_minor": 2
}
