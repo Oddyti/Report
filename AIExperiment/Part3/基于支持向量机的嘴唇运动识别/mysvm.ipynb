{
 "cells": [
  {
   "cell_type": "code",
   "execution_count": 20,
   "metadata": {},
   "outputs": [
    {
     "name": "stdout",
     "output_type": "stream",
     "text": [
      "[0.65307 0.9135  0.99926]\n",
      "[0.95969 2.0065  3.3661 ]\n",
      "[0.9135  0.99926 1.362  ]\n",
      "[2.0065 3.3661 2.8797]\n",
      "[0.99926 1.362   1.5848 ]\n",
      "[3.3661 2.8797 2.8833]\n",
      "[1.362  1.5848 1.4066]\n",
      "[2.8797 2.8833 1.7312]\n",
      "[1.5848 1.4066 1.5855]\n",
      "[2.8833  1.7312  0.96023]\n",
      "[1.4066 1.5855 1.6136]\n",
      "[1.7312  0.96023 2.5968 ]\n",
      "[1.5855 1.6136 1.5779]\n",
      "[0.96023 2.5968  1.3746 ]\n",
      "[1.6136 1.5779 1.8405]\n",
      "[2.5968  1.3746  0.73455]\n",
      "[1.5779 1.8405 1.4832]\n",
      "[1.3746  0.73455 1.7031 ]\n",
      "[1.8405 1.4832 1.0927]\n",
      "[0.73455 1.7031  2.6156 ]\n",
      "0.65307 0.9135\n"
     ]
    }
   ],
   "source": [
    "import pandas as pd\n",
    "import numpy as np\n",
    "from sklearn.model_selection import train_test_split\n",
    "\n",
    "df = pd.read_table('training.data', sep = ' ', names = ['x1', 'x2', \"x3\", \"x4\", \"x5\", \"x6\", \"y\"])\n",
    "xx = df.iloc[:,:3].values\n",
    "for i in range(20):\n",
    "    print(xx[i])\n",
    "a, b = xx[0][0], xx[0][1]\n",
    "print(a, b)"
   ]
  }
 ],
 "metadata": {
  "interpreter": {
   "hash": "e17245beed66d97676295f18f5af02f52c1ff0b20014505018e20bb50c7c46d6"
  },
  "kernelspec": {
   "display_name": "Python 3.9.7 64-bit ('base': conda)",
   "language": "python",
   "name": "python3"
  },
  "language_info": {
   "codemirror_mode": {
    "name": "ipython",
    "version": 3
   },
   "file_extension": ".py",
   "mimetype": "text/x-python",
   "name": "python",
   "nbconvert_exporter": "python",
   "pygments_lexer": "ipython3",
   "version": "3.9.7"
  },
  "orig_nbformat": 4
 },
 "nbformat": 4,
 "nbformat_minor": 2
}
