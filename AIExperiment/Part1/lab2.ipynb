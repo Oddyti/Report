{
 "cells": [
  {
   "cell_type": "code",
   "execution_count": 2,
   "metadata": {},
   "outputs": [
    {
     "name": "stdout",
     "output_type": "stream",
     "text": [
      "前20个数据测试结果和原数据比较\n",
      "---------------------——---\n",
      "    TestResult  OriginTest\n",
      "0            2           2\n",
      "1            3           3\n",
      "2            1           3\n",
      "3            2           2\n",
      "4            2           2\n",
      "5            3           3\n",
      "6            3           3\n",
      "7            2           2\n",
      "8            1           1\n",
      "9            1           1\n",
      "10           1           1\n",
      "11           3           3\n",
      "12           2           2\n",
      "13           2           2\n",
      "14           1           1\n",
      "15           2           2\n",
      "16           1           1\n",
      "17           2           2\n",
      "18           1           1\n",
      "19           3           3\n",
      "---------------------——---\n",
      "正确率97.00%\n"
     ]
    }
   ],
   "source": [
    "import pandas as pd\n",
    "import kNN\n",
    "from sklearn.model_selection import train_test_split\n",
    "\n",
    "df = pd.read_table('datingTestSet2.txt',sep='\\s+', names = ['A', 'B', 'C', 'Y'])\n",
    "# 对特征进行归一化处理\n",
    "df2 = df.iloc[:, :3]\n",
    "df2 = (df2-df2.mean())/df2.std()    \n",
    "lable =df.iloc[:,3:4]\n",
    "df2.loc[:, 'Y'] = lable\n",
    "# 对数据集进行测试集和训练集划分，90%作为训练集，10%作为测试集\n",
    "X_train, X_test, Y_train, Y_test = train_test_split(df2.iloc[:, :3], df2.Y, train_size=.90)\n",
    "# 将DataFrame格式转化为numpy格式处理\n",
    "group = X_train.values\n",
    "label = Y_train.values\n",
    "length = len(X_test)\n",
    "X_test.iloc[0:1,:]\n",
    "# res以储存测试结果\n",
    "res = []\n",
    "# 设置错误正确数cout以计算正确率\n",
    "Tnum = 0\n",
    "Fnum = 0\n",
    "for i in range(length):\n",
    "    inX = X_test.iloc[i:i+1 , :].values\n",
    "    res.append(kNN.classify0(inX, group, label, k = 3))\n",
    "    if(kNN.classify0(inX, group, label, k = 3) == Y_test.values[i]):\n",
    "        Tnum += 1\n",
    "    else:\n",
    "        Fnum += 1\n",
    "res1 = pd.DataFrame(data = res, columns=['TestResult'])\n",
    "Y_test.reset_index(inplace=True,drop=True)\n",
    "res1.loc[:, 'OriginTest'] = Y_test\n",
    "\n",
    "print('前20个数据测试结果和原数据比较')\n",
    "print('---------------------——---')\n",
    "print(res1.head(20))\n",
    "print('---------------------——---')\n",
    "print('正确率%.2f%%' %(100*Tnum/(Tnum+Fnum)))\n",
    "\n"
   ]
  },
  {
   "cell_type": "markdown",
   "metadata": {},
   "source": []
  }
 ],
 "metadata": {
  "interpreter": {
   "hash": "dbb0f4bc1de94fc3f1f873c9db95dfd23aae5c25d54524bdc1184346fdea4657"
  },
  "kernelspec": {
   "display_name": "Python 3.7.0 ('tensorflow')",
   "language": "python",
   "name": "python3"
  },
  "language_info": {
   "codemirror_mode": {
    "name": "ipython",
    "version": 3
   },
   "file_extension": ".py",
   "mimetype": "text/x-python",
   "name": "python",
   "nbconvert_exporter": "python",
   "pygments_lexer": "ipython3",
   "version": "3.7.0"
  },
  "orig_nbformat": 4
 },
 "nbformat": 4,
 "nbformat_minor": 2
}
