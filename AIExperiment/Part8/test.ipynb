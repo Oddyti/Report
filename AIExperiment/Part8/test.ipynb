{
 "cells": [
  {
   "cell_type": "code",
   "execution_count": 6,
   "metadata": {},
   "outputs": [
    {
     "name": "stdout",
     "output_type": "stream",
     "text": [
      "/job:localhost/replica:0/task:0/device:CPU:0 /job:localhost/replica:0/task:0/device:CPU:0\n",
      "/job:localhost/replica:0/task:0/device:GPU:0 /job:localhost/replica:0/task:0/device:GPU:0\n",
      "warmup: 0.0009522999998807791 0.5807824999999411\n",
      "run time: 0.0050395999999182095 0.006941199999801029\n",
      "/job:localhost/replica:0/task:0/device:CPU:0 /job:localhost/replica:0/task:0/device:CPU:0\n",
      "/job:localhost/replica:0/task:0/device:GPU:0 /job:localhost/replica:0/task:0/device:GPU:0\n",
      "warmup: 0.00042129999997087 0.001010599999972328\n",
      "run time: 0.006495000000086293 0.007322899999962829\n",
      "/job:localhost/replica:0/task:0/device:CPU:0 /job:localhost/replica:0/task:0/device:CPU:0\n",
      "/job:localhost/replica:0/task:0/device:GPU:0 /job:localhost/replica:0/task:0/device:GPU:0\n",
      "warmup: 0.0006438999998863437 0.0011617000000114786\n",
      "run time: 0.0043306999998549145 0.008929099999932077\n",
      "/job:localhost/replica:0/task:0/device:CPU:0 /job:localhost/replica:0/task:0/device:CPU:0\n",
      "/job:localhost/replica:0/task:0/device:GPU:0 /job:localhost/replica:0/task:0/device:GPU:0\n",
      "warmup: 0.0004519999999956781 0.0008702000000084809\n",
      "run time: 0.004317399999990812 0.0079244999999446\n",
      "/job:localhost/replica:0/task:0/device:CPU:0 /job:localhost/replica:0/task:0/device:CPU:0\n",
      "/job:localhost/replica:0/task:0/device:GPU:0 /job:localhost/replica:0/task:0/device:GPU:0\n",
      "warmup: 0.0005770000000211439 0.0009606000000985659\n",
      "run time: 0.00530069999990701 0.008286600000019462\n",
      "/job:localhost/replica:0/task:0/device:CPU:0 /job:localhost/replica:0/task:0/device:CPU:0\n",
      "/job:localhost/replica:0/task:0/device:GPU:0 /job:localhost/replica:0/task:0/device:GPU:0\n",
      "warmup: 0.0013070999998490151 0.000778899999886562\n",
      "run time: 0.013523000000077445 0.007798600000114675\n",
      "/job:localhost/replica:0/task:0/device:CPU:0 /job:localhost/replica:0/task:0/device:CPU:0\n",
      "/job:localhost/replica:0/task:0/device:GPU:0 /job:localhost/replica:0/task:0/device:GPU:0\n",
      "warmup: 0.010843199999953868 0.0008520999999745982\n",
      "run time: 0.11419819999991887 0.009589399999867965\n",
      "/job:localhost/replica:0/task:0/device:CPU:0 /job:localhost/replica:0/task:0/device:CPU:0\n",
      "/job:localhost/replica:0/task:0/device:GPU:0 /job:localhost/replica:0/task:0/device:GPU:0\n",
      "warmup: 0.13965000000007421 0.0038764000000810483\n",
      "run time: 1.1990524000000278 0.011308899999903588\n"
     ]
    },
    {
     "name": "stderr",
     "output_type": "stream",
     "text": [
      "C:\\Users\\kevin\\AppData\\Local\\Temp\\ipykernel_24428\\802011737.py:63: UserWarning: Attempted to set non-positive bottom ylim on a log-scaled axis.\n",
      "Invalid limit will be ignored.\n",
      "  plt.ylim([0,100])\n"
     ]
    },
    {
     "data": {
      "image/png": "[encoded data removed]",
      "text/plain": [
       "<Figure size 432x288 with 1 Axes>"
      ]
     },
     "metadata": {
      "needs_background": "light"
     },
     "output_type": "display_data"
    }
   ],
   "source": [
    "import  numpy as np\n",
    "import  matplotlib\n",
    "from    matplotlib import pyplot as plt\n",
    "plt.close()\n",
    "# Default parameters for plots\n",
    "matplotlib.rcParams['font.size'] = 20\n",
    "matplotlib.rcParams['figure.titlesize'] = 20\n",
    "matplotlib.rcParams['figure.figsize'] = [9, 7]\n",
    "# matplotlib.rcParams['font.family'] = ['KaiTi']\n",
    "matplotlib.rcParams['axes.unicode_minus']=False \n",
    "\n",
    "import tensorflow as tf\n",
    "import timeit\n",
    "iteration = 8\n",
    "cpu_data = []\n",
    "gpu_data = []\n",
    "for n in range(iteration):\n",
    "\tn = 10**n\n",
    "\t# 创建在CPU上运算的2个矩阵\n",
    "\twith tf.device('/cpu:0'):\n",
    "\t\tcpu_a = tf.random.normal([1, n])\n",
    "\t\tcpu_b = tf.random.normal([n, 1])\n",
    "\t\tprint(cpu_a.device, cpu_b.device)\n",
    "\t\n",
    "\t# 创建使用GPU运算的2个矩阵\n",
    "\twith tf.device('/gpu:0'):\n",
    "\t\tgpu_a = tf.random.normal([1, n])\n",
    "\t\tgpu_b = tf.random.normal([n, 1])\n",
    "\t\tprint(gpu_a.device, gpu_b.device)\n",
    "\n",
    "\tdef cpu_run():\n",
    "\t\twith tf.device('/cpu:0'):\n",
    "\t\t\tc = tf.matmul(cpu_a, cpu_b)\n",
    "\t\treturn c \n",
    "\n",
    "\tdef gpu_run():\n",
    "\t\twith tf.device('/gpu:0'):\n",
    "\t\t\tc = tf.matmul(gpu_a, gpu_b)\n",
    "\t\treturn c \n",
    "\n",
    "\t# 第一次计算需要热身，避免将初始化阶段时间结算在内\n",
    "\tcpu_time = timeit.timeit(cpu_run, number=10)\n",
    "\tgpu_time = timeit.timeit(gpu_run, number=10)\n",
    "\tprint('warmup:', cpu_time, gpu_time)\n",
    "\t# 正式计算100次，取平均时间\n",
    "\tcpu_time = timeit.timeit(cpu_run, number=100)\n",
    "\tgpu_time = timeit.timeit(gpu_run, number=100)\n",
    "\tprint('run time:', cpu_time, gpu_time)\n",
    "\tcpu_data.append(cpu_time/100)\n",
    "\tgpu_data.append(gpu_time/100)\n",
    "\n",
    "\tdel cpu_a,cpu_b,gpu_a,gpu_b\n",
    "\n",
    "x = [10**i for i in range(iteration)]\n",
    "cpu_data = [1000*i for i in cpu_data]\n",
    "gpu_data = [1000*i for i in gpu_data]\n",
    "plt.plot(x, cpu_data, color='C1', marker='s', label='CPU')\n",
    "plt.plot(x, gpu_data, color='C0', marker='^', label='GPU')\n",
    "\n",
    "\n",
    "plt.gca().set_xscale('log')\n",
    "plt.gca().set_yscale('log')\n",
    "plt.ylim([0,100])\n",
    "plt.xlabel(r'size of matrix n:(1xn)@(nx1)')\n",
    "plt.ylabel(r'run time(ms)')\n",
    "plt.legend()\n",
    "# plt.savefig('gpu-time.svg')\n",
    "plt.show()\n"
   ]
  }
 ],
 "metadata": {
  "interpreter": {
   "hash": "5b496de2c77a15947f4147fb4cdd7a1d72b3fff485d6002cc9952d990454c3b7"
  },
  "kernelspec": {
   "display_name": "Python 3.8.13 ('tensorch')",
   "language": "python",
   "name": "python3"
  },
  "language_info": {
   "codemirror_mode": {
    "name": "ipython",
    "version": 3
   },
   "file_extension": ".py",
   "mimetype": "text/x-python",
   "name": "python",
   "nbconvert_exporter": "python",
   "pygments_lexer": "ipython3",
   "version": "3.8.13"
  },
  "orig_nbformat": 4
 },
 "nbformat": 4,
 "nbformat_minor": 2
}
