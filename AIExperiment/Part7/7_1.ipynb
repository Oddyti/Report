{
 "cells": [
  {
   "cell_type": "code",
   "execution_count": null,
   "metadata": {},
   "outputs": [],
   "source": [
    "from LoadMnistData import LoadMnistData\n",
    "from Conv import Conv\n",
    "from Pool import Pool\n",
    "import numpy as np\n",
    "\n",
    "Images, Labels = LoadMnistData('MNIST/t10k-images-idx3-ubyte.gz', 'MNIST/t10k-labels-idx1-ubyte.gz')\n",
    "Images = np.divide (Images, 255)\n",
    "X = Images[0:2000, :, :]\n",
    "D = Labels[0:2000]\n",
    "np.save('data.npy',X[0:3,:,:])\n",
    "np.save('label.npy',D[0:3])\n",
    "\n",
    "\n"
   ]
  },
  {
   "cell_type": "code",
   "execution_count": null,
   "metadata": {},
   "outputs": [],
   "source": [
    "from Conv import Conv\n",
    "from Pool import Pool\n",
    "import numpy as np\n",
    "\n",
    "a = np.ones((28,28))\n",
    "w = np.ones((9,9,20)) * 2\n",
    "y1 = Conv(a,w)\n",
    "y2 = Pool(y1)\n",
    "\n"
   ]
  },
  {
   "cell_type": "code",
   "execution_count": 19,
   "metadata": {},
   "outputs": [],
   "source": [
    "import numpy as np\n",
    "from Conv import Conv\n",
    "from Pool import Pool\n",
    "\n",
    "def ReLu(x):\n",
    "    return np.maximum(x,0)\n",
    "\n",
    "def ReLu_derivative(x):\n",
    "    for i in range(x.shape[0]):\n",
    "        if x[i] < 0:\n",
    "            x[i] = 0\n",
    "        else:\n",
    "            x[i] = 1\n",
    "    return x\n",
    "    \n",
    "def softmax(x):\n",
    "    x -= np.max(x)\n",
    "    softmax_sum = np.sum(np.exp(x))\n",
    "    for i in range(x.shape[0]):\n",
    "        x[i] = np.exp(x[i]) / softmax_sum \n",
    "    return x\n",
    "\n",
    "def CNN(data, labels, learn_rate, epochs, beta):\n",
    "\n",
    "    kernel = np.random.random((9,9,20)) * 0.1\n",
    "    W1 = np.random.random((2000,100))\n",
    "    W2 = np.random.random((100,10))\n",
    "\n",
    "    for epoch in range(epochs):\n",
    "        for i in range(data.shape[0]):\n",
    "            Y1 = ReLu(Conv(data[i], kernel))\n",
    "\n",
    "\n",
    "\n",
    "\n",
    "if __name__ == '__main__':\n",
    "    data = np.load('data.npy')\n",
    "    labels = np.load('label.npy')\n",
    "    # data = np.rollaxis(data,0,3)\n",
    "    lables_new = np.zeros((labels.shape[0],10))\n",
    "    for i in range(labels.shape[0]):\n",
    "        lables_new[i][labels[i]] = 1\n",
    "    learn_rate = 0.01\n",
    "    beta = 0.01\n",
    "    epochs = 1\n",
    "\n",
    "    CNN(data, labels, learn_rate, epochs, beta)\n",
    "    \n"
   ]
  }
 ],
 "metadata": {
  "interpreter": {
   "hash": "303fa613b6f3e1efefe7bb28036e305e1021fa6bdb083a5f9fd57f9d9bbad8eb"
  },
  "kernelspec": {
   "display_name": "Python 3.9.7 ('base')",
   "language": "python",
   "name": "python3"
  },
  "language_info": {
   "codemirror_mode": {
    "name": "ipython",
    "version": 3
   },
   "file_extension": ".py",
   "mimetype": "text/x-python",
   "name": "python",
   "nbconvert_exporter": "python",
   "pygments_lexer": "ipython3",
   "version": "3.9.7"
  },
  "orig_nbformat": 4
 },
 "nbformat": 4,
 "nbformat_minor": 2
}
