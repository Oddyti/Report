{
 "cells": [
  {
   "cell_type": "code",
   "execution_count": 1,
   "metadata": {},
   "outputs": [],
   "source": [
    "import numpy as np\n",
    "from scipy import signal\n",
    "e3 = np.reshape(e4, y3.shape) #池化层输出\n",
    "e2 = np.zeros_like(y2)\n",
    "W3 = np.ones_like(y2) / (2*2)\n",
    "for c in range(20):\n",
    "    e2[:, :, c] = np.kron(e3[:, :, c], np.ones((2,2)) * W3[:,:,c])\n",
    "    # kron 为Kronecker积，结果为矩阵\n",
    "delta2 = (y2 > 0) * e2\n",
    "delta1_x = np.zeros_like(W1)\n",
    "for c in range(20):\n",
    "    delta1_x[:,:,c] = signal.convolve2d(x[:,:], np.rot90(delta2[:,:,c],2), 'valid')\n",
    "dW1 = delta1_x\n",
    "\n"
   ]
  }
 ],
 "metadata": {
  "interpreter": {
   "hash": "e17245beed66d97676295f18f5af02f52c1ff0b20014505018e20bb50c7c46d6"
  },
  "kernelspec": {
   "display_name": "Python 3.9.7 64-bit ('base': conda)",
   "language": "python",
   "name": "python3"
  },
  "language_info": {
   "codemirror_mode": {
    "name": "ipython",
    "version": 3
   },
   "file_extension": ".py",
   "mimetype": "text/x-python",
   "name": "python",
   "nbconvert_exporter": "python",
   "pygments_lexer": "ipython3",
   "version": "3.9.7"
  },
  "orig_nbformat": 4
 },
 "nbformat": 4,
 "nbformat_minor": 2
}
