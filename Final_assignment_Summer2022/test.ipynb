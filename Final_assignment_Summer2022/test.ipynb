{
 "cells": [
  {
   "cell_type": "code",
   "execution_count": 7,
   "metadata": {},
   "outputs": [],
   "source": [
    "# This is a sample Python script.\n",
    "\n",
    "import sys\n",
    "sys.path.insert(1, './functions/')\n",
    "\n",
    "import numpy as np\n",
    "import matplotlib.pyplot as plt\n",
    "from aoa_est import *\n",
    "from source_separation import *\n",
    "\n",
    "import wave\n",
    "from scipy.io import wavfile\n",
    "import librosa\n",
    "import soundfile as sf\n",
    "from glob import glob\n",
    "import os\n",
    "\n",
    "\n",
    "def load_audio_file(channel_path):\n",
    "    audio, _ = librosa.load(channel_path, sr=16000)\n",
    "    return audio\n",
    "\n",
    "\n",
    "\n",
    "space = 0.2 # Spacing Between Antenna Array Microphones\n",
    "sr = 16000 # Sampling Rate of Audio File\n",
    "c = 340 # Speed of sound in air\n",
    "\n",
    "\n",
    "## Part 1 and Part 2 of Assignment - Single Source for both Clean and Noisy Audio\n",
    "\n",
    "M = 4 # Number of microphones in array\n",
    "N = 1 # Number of sound sources\n",
    "\n",
    "data_dir = './dataset/Single_Source_Data/'\n",
    "\n",
    "aoa_est_clean = []\n",
    "curr_set_dir = os.path.join(data_dir, str(M) + '-' + str(N) + '-v'+str(1))\n",
    "mix_dir_clean = os.path.join(curr_set_dir, 'mix','Clean')\n",
    "\n",
    "mixtures_clean = []\n",
    "\n",
    "for i in range(M):\n",
    "    channel_path_clean = os.path.join(mix_dir_clean, 'channel' + str(i + 1) + '_clean.wav')\n",
    "    mixture_clean = load_audio_file(channel_path_clean)\n",
    "    mixtures_clean.append(mixture_clean)\n",
    "mixtures_clean = np.array(mixtures_clean)\n",
    "\n",
    "mixtures_clean_fft = fft(mixtures_clean)"
   ]
  },
  {
   "cell_type": "code",
   "execution_count": 8,
   "metadata": {},
   "outputs": [
    {
     "name": "stdout",
     "output_type": "stream",
     "text": [
      "157 2.466150233067988\n"
     ]
    },
    {
     "data": {
      "image/png": "[encoded data removed]",
      "text/plain": [
       "<Figure size 432x288 with 1 Axes>"
      ]
     },
     "metadata": {
      "needs_background": "light"
     },
     "output_type": "display_data"
    }
   ],
   "source": [
    "import numpy as np\n",
    "from scipy.fft import fft, ifft\n",
    "import matplotlib.pyplot as plt\n",
    "\n",
    "theta = np.arange(0, np.pi, np.pi/200)\n",
    "ofunction = np.zeros(200)\n",
    "fi = np.arange(0, 8500, 100)\n",
    "c = 340\n",
    "d = 0.2\n",
    "\n",
    "for i in range(200):\n",
    "    sum_1 = 0\n",
    "    for fi_i in fi:\n",
    "        sum_2 = 0\n",
    "        for k in range(M):\n",
    "            e = np.exp(1j * 2 * np.pi * fi_i/10 * d * np.cos(theta[i]) * k / c)\n",
    "            sum_2 += (e * mixtures_clean_fft[k, fi_i])\n",
    "        sum_1 += abs(sum_2)\n",
    "    ofunction[i] = sum_1\n",
    "\n",
    "index = np.argmax(ofunction)\n",
    "max = theta[index]\n",
    "print(index, max)\n",
    "\n",
    "plt.figure\n",
    "plt.plot(theta, ofunction)\n",
    "plt.show\n",
    "plt.savefig('output.png')\n"
   ]
  }
 ],
 "metadata": {
  "interpreter": {
   "hash": "e17245beed66d97676295f18f5af02f52c1ff0b20014505018e20bb50c7c46d6"
  },
  "kernelspec": {
   "display_name": "Python 3.9.7 64-bit ('base': conda)",
   "language": "python",
   "name": "python3"
  },
  "language_info": {
   "codemirror_mode": {
    "name": "ipython",
    "version": 3
   },
   "file_extension": ".py",
   "mimetype": "text/x-python",
   "name": "python",
   "nbconvert_exporter": "python",
   "pygments_lexer": "ipython3",
   "version": "3.9.7"
  },
  "orig_nbformat": 4
 },
 "nbformat": 4,
 "nbformat_minor": 2
}
