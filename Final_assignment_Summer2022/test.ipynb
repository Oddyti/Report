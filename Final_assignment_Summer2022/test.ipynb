{
 "cells": [
  {
   "cell_type": "code",
   "execution_count": 31,
   "metadata": {},
   "outputs": [],
   "source": [
    "# This is a sample Python script.\n",
    "\n",
    "import sys\n",
    "sys.path.insert(1, './functions/')\n",
    "\n",
    "import numpy as np\n",
    "import matplotlib.pyplot as plt\n",
    "from aoa_est import *\n",
    "from source_separation import *\n",
    "\n",
    "import wave\n",
    "from scipy.io import wavfile\n",
    "import librosa\n",
    "import soundfile as sf\n",
    "from glob import glob\n",
    "import os\n",
    "\n",
    "\n",
    "def load_audio_file(channel_path):\n",
    "    audio, _ = librosa.load(channel_path, sr=16000)\n",
    "    return audio\n",
    "\n",
    "\n",
    "\n",
    "space = 0.2 # Spacing Between Antenna Array Microphones\n",
    "sr = 16000 # Sampling Rate of Audio File\n",
    "c = 340 # Speed of sound in air\n",
    "\n",
    "\n",
    "## Part 1 and Part 2 of Assignment - Single Source for both noise and Noisy Audio\n",
    "\n",
    "M = 4 # Number of microphones in array\n",
    "N = 1 # Number of sound sources\n",
    "\n",
    "data_dir = './dataset/Single_Source_Data/'\n",
    "\n",
    "aoa_est_noise = []\n",
    "curr_set_dir = os.path.join(data_dir, str(M) + '-' + str(N) + '-v'+str(3))\n",
    "mix_dir_noise = os.path.join(curr_set_dir, 'mix','noise')\n",
    "\n",
    "mixtures_noise = []\n",
    "\n",
    "for i in range(M):\n",
    "    channel_path_noise = os.path.join(mix_dir_noise, 'channel' + str(i + 1) + '.wav')\n",
    "    mixture_noise = load_audio_file(channel_path_noise)\n",
    "    mixtures_noise.append(mixture_noise)\n",
    "mixtures_noise = np.array(mixtures_noise)\n",
    "\n",
    "mixtures_noise_fft = fft(mixtures_noise)"
   ]
  },
  {
   "cell_type": "code",
   "execution_count": 35,
   "metadata": {},
   "outputs": [
    {
     "name": "stdout",
     "output_type": "stream",
     "text": [
      "(array([ 58, 164, 171]),)\n"
     ]
    },
    {
     "data": {
      "image/png": "[encoded data removed]",
      "text/plain": [
       "<Figure size 432x288 with 1 Axes>"
      ]
     },
     "metadata": {
      "needs_background": "light"
     },
     "output_type": "display_data"
    }
   ],
   "source": [
    "import numpy as np\n",
    "from scipy.fft import fft, ifft\n",
    "import scipy.signal as sg\n",
    "import matplotlib.pyplot as plt\n",
    "\n",
    "theta = np.arange(0, np.pi, np.pi/200)\n",
    "ofunction = np.zeros(200)\n",
    "fi = np.arange(0, 8500, 100)\n",
    "c = 340\n",
    "d = 0.2\n",
    "\n",
    "for i in range(200):\n",
    "    sum_1 = 0\n",
    "    for fi_i in fi:\n",
    "        sum_2 = 0\n",
    "        for k in range(M):\n",
    "            e = np.exp(1j * 2 * np.pi * fi_i/10 * d * np.cos(theta[i]) * k / c)\n",
    "            sum_2 += (e * mixtures_noise_fft[k, fi_i])\n",
    "        sum_1 += abs(sum_2)\n",
    "    ofunction[i] = sum_1\n",
    "\n",
    "max = sg.argrelmax(ofunction)\n",
    "print(max)\n",
    "\n",
    "est_aoa = np.zeros((1, N))\n",
    "if N==1:\n",
    "    index = np.argmax(ofunction)\n",
    "    est_aoa = theta[index]\n",
    "else:\n",
    "    est_aoa = theta[sg.argrelmax(ofunction)[0]]\n",
    "\n",
    "plt.figure\n",
    "plt.plot(theta, ofunction)\n",
    "plt.show\n",
    "plt.savefig('output.png')\n"
   ]
  }
 ],
 "metadata": {
  "interpreter": {
   "hash": "e17245beed66d97676295f18f5af02f52c1ff0b20014505018e20bb50c7c46d6"
  },
  "kernelspec": {
   "display_name": "Python 3.9.7 64-bit ('base': conda)",
   "language": "python",
   "name": "python3"
  },
  "language_info": {
   "codemirror_mode": {
    "name": "ipython",
    "version": 3
   },
   "file_extension": ".py",
   "mimetype": "text/x-python",
   "name": "python",
   "nbconvert_exporter": "python",
   "pygments_lexer": "ipython3",
   "version": "3.9.7"
  },
  "orig_nbformat": 4
 },
 "nbformat": 4,
 "nbformat_minor": 2
}
