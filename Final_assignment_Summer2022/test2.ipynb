{
 "cells": [
  {
   "cell_type": "code",
   "execution_count": 6,
   "metadata": {},
   "outputs": [],
   "source": [
    "import numpy as np\n",
    "from scipy.fft import fft, ifft\n",
    "import matplotlib.pyplot as plt\n",
    "import librosa\n",
    "import soundfile as sf\n",
    "from glob import glob\n",
    "import os\n",
    "\n",
    "\n",
    "def source_separation(mixtures, aoa_est, M, N, space, sr, c, dir):\n",
    "\n",
    "    fi = np.arange(0, 160000, 1)\n",
    "\n",
    "    trans = mixtures.shape[-1]/sr\n",
    "\n",
    "    mixtures_fft = fft(mixtures)\n",
    "\n",
    "    #Use Estimated AoA to separate out sources from mixture\n",
    "    s1 = []\n",
    "    for fi_i in fi:\n",
    "        sum_s1 = 0\n",
    "        for k in range(M):\n",
    "            e = np.exp(1j * - 2 * np.pi *fi_i/trans *\n",
    "                       space * np.cos(aoa_est[0]) * k / c)\n",
    "            sum_s1 += (e * mixtures_fft[k, fi_i])\n",
    "        s1.append(sum_s1)\n",
    "    # s1是4倍的source1的0到850Hz的频谱，步长是10\n",
    "    s1 = np.array(s1)\n",
    "\n",
    "    s2 = []\n",
    "    for fi_i in fi:\n",
    "        sum_s2 = 0\n",
    "        for k in range(M):\n",
    "            e = np.exp(1j * - 2 * np.pi *fi_i/trans *\n",
    "                       space * np.cos(aoa_est[1]) * k / c)\n",
    "            sum_s2 += (e * mixtures_fft[k, fi_i])\n",
    "        s2.append(sum_s2)\n",
    "    # s2是4倍的source2的0到850Hz的频谱，步长是10\n",
    "    s2 = np.array(s2)\n",
    "    # Write code for separating 2 sound sources\n",
    "\n",
    "    # Overwrite source1 and source2 variables with separated audio sources\n",
    "    source1 = 0\n",
    "    source2 = 0\n",
    "\n",
    "    source1 = ifft(s1)\n",
    "    source2 = ifft(s2)\n",
    "\n",
    "    dir_s1 = os.path.join(dir, 'source1.wav')\n",
    "    dir_s2 = os.path.join(dir, 'source2.wav')\n",
    "\n",
    "    # Save Separated Audio Sample for Submission in Results Folder\n",
    "\n",
    "    sf.write(dir_s1, source1, 16000)\n",
    "    sf.write(dir_s2, source2, 16000)\n",
    "\n",
    "    return 0\n"
   ]
  },
  {
   "cell_type": "code",
   "execution_count": 3,
   "metadata": {},
   "outputs": [],
   "source": [
    "import numpy as np\n",
    "a = np.array([1,2,3])"
   ]
  }
 ],
 "metadata": {
  "kernelspec": {
   "display_name": "Python 3.8.13 ('tensorch')",
   "language": "python",
   "name": "python3"
  },
  "language_info": {
   "codemirror_mode": {
    "name": "ipython",
    "version": 3
   },
   "file_extension": ".py",
   "mimetype": "text/x-python",
   "name": "python",
   "nbconvert_exporter": "python",
   "pygments_lexer": "ipython3",
   "version": "3.8.13"
  },
  "orig_nbformat": 4,
  "vscode": {
   "interpreter": {
    "hash": "5b496de2c77a15947f4147fb4cdd7a1d72b3fff485d6002cc9952d990454c3b7"
   }
  }
 },
 "nbformat": 4,
 "nbformat_minor": 2
}
